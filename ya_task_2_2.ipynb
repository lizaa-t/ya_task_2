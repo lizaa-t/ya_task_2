{
  "metadata": {
    "language_info": {
      "codemirror_mode": {
        "name": "python",
        "version": 3
      },
      "file_extension": ".py",
      "mimetype": "text/x-python",
      "name": "python",
      "nbconvert_exporter": "python",
      "pygments_lexer": "ipython3",
      "version": "3.8"
    },
    "kernelspec": {
      "name": "python",
      "display_name": "Python (Pyodide)",
      "language": "python"
    }
  },
  "nbformat_minor": 4,
  "nbformat": 4,
  "cells": [
    {
      "cell_type": "markdown",
      "source": "# Тестовые данные",
      "metadata": {}
    },
    {
      "cell_type": "code",
      "source": "# (input, output)\ntest_1 = ([[3,2,1],[1,7,6],[2,7,7]], 1)\ntest_2 = ([[3,1,2,2],[1,4,4,5],[2,4,2,2],[2,4,2,2]], 3)\ntest_3 = ([[3,2,1,1],[1,7,6,6],[2,7,7,7],[2,7,7,7]], 2)\ntest_4 = ([[1, 1], [1, 1]], 4)",
      "metadata": {
        "trusted": true
      },
      "execution_count": 2,
      "outputs": []
    },
    {
      "cell_type": "markdown",
      "source": "# Кубический вариант",
      "metadata": {}
    },
    {
      "cell_type": "markdown",
      "source": "Cначала я решила додумать решение по подсказке, но куб остался :(",
      "metadata": {}
    },
    {
      "cell_type": "code",
      "source": "def count_equal_rowcol_pairs(grid):\n    '''Сложность: O(n^3)'''\n    \n    n = len(grid)\n    pairs_counter = 0\n    \n    # проходимся по строкам\n    for row in grid:\n        # для текущей строки проходимся по всем колонкам\n        for j in range(n):\n            for i in range(n):\n                # как только находим неравные элементы - бросаем сравниваемую колонку\n                if row[i] != grid[i][j]:\n                    break\n                # если проитерировались по всей колонке - значит найдена пара, т.к. все соответствующие элементы равны\n                if i == n-1:\n                    pairs_counter += 1\n    \n    return pairs_counter",
      "metadata": {
        "trusted": true
      },
      "execution_count": 3,
      "outputs": []
    },
    {
      "cell_type": "code",
      "source": "assert count_equal_rowcol_pairs(test_1[0]) == test_1[1]\nassert count_equal_rowcol_pairs(test_2[0]) == test_2[1]\nassert count_equal_rowcol_pairs(test_3[0]) == test_3[1]\nassert count_equal_rowcol_pairs(test_4[0]) == test_4[1]",
      "metadata": {
        "trusted": true
      },
      "execution_count": 9,
      "outputs": []
    },
    {
      "cell_type": "markdown",
      "source": "Потом у меня было два промежуточных решения, мне казалось, что я нашла O(n^2), но когда доходило дело до реализации - я снова упиралась в какой-нибудь подкапотный O(n) и куб возвращался.",
      "metadata": {}
    },
    {
      "cell_type": "markdown",
      "source": "Я долго думала, как мне избавиться от куба и прийти к квадрату. Либо мне нужно как-то сравнивать списки, не перебирая n элементов, либо оставить сравнение списков за O(n), но оно должно быть внутри одного цикла, а не вложенного. ",
      "metadata": {}
    },
    {
      "cell_type": "markdown",
      "source": "# Квадратичный вариант",
      "metadata": {}
    },
    {
      "cell_type": "markdown",
      "source": "Мой мозг зацепился за сравнение списков за O(n) и вспомнил префиксное дерево (trie), в котором поиск слова происходит за O(n). Я прикинула, а что если я добавлю строки в trie, а потом буду искать колонки в этом trie? И, кажется, получился заветный квдрат :)",
      "metadata": {}
    },
    {
      "cell_type": "markdown",
      "source": "P.S.: кстати, с trie я столкнулась впервые, работая над дипломом в бакалавриате - на этой структуре сделан mystem от Яндекса :)",
      "metadata": {}
    },
    {
      "cell_type": "code",
      "source": "def count_equal_rowcol_pairs(grid):\n    '''Сложность: O(n^2)'''\n    \n    n = len(grid)\n    \n    # добавление и поиск в trie: O(n)\n    # trie[0] - переходы к другим вершинам\n    # trie[1] - сколько раз дошли до этой вершины\n    #   для всего, что не лист - 1,\n    #   а для листа - этот счетчик плюсуется, т.к. нам нужно считать попадания в лист при построении дерева (кол-во одинаковых строк)\n    trie = [dict(), 1]\n\n    # строим trie из строк: O(n^2)\n    for row in grid:\n        current_node = trie\n        for i, item in enumerate(row):\n            try:\n                current_node = current_node[0][item]\n                # дошли до конца слова, которое уже было добавлено в дерево, поэтому плюсуем счетчик кол-ва таких слов\n                if i == n-1:\n                    current_node[1] += 1\n            except KeyError:\n                current_node[0][item] = [dict(), 1]\n                current_node = current_node[0][item]\n\n    # генерим колонки: O(n^2)\n    columns = []\n    for i in range(n):\n        column = []\n        for j in range(n):\n            column.append(grid[j][i])\n        columns.append(column)\n    \n    # обходм колонки и ищем их в trie из строк: O(n^2)\n    pairs_counter = 0\n    for column in columns:\n        current_node = trie\n        for i, item in enumerate(column):\n            try:\n                current_node = current_node[0][item]\n                if i == n-1:\n                    pairs_counter += current_node[1]\n            except KeyError:\n                break\n\n    return pairs_counter",
      "metadata": {
        "trusted": true
      },
      "execution_count": 12,
      "outputs": []
    },
    {
      "cell_type": "code",
      "source": "assert count_equal_rowcol_pairs(test_1[0]) == test_1[1]\nassert count_equal_rowcol_pairs(test_2[0]) == test_2[1]\nassert count_equal_rowcol_pairs(test_3[0]) == test_3[1]\nassert count_equal_rowcol_pairs(test_4[0]) == test_4[1]",
      "metadata": {
        "trusted": true
      },
      "execution_count": 13,
      "outputs": []
    },
    {
      "cell_type": "markdown",
      "source": "# В поисках O(n*log(n))",
      "metadata": {}
    },
    {
      "cell_type": "markdown",
      "source": "## Почему так не получится?",
      "metadata": {}
    },
    {
      "cell_type": "markdown",
      "source": "Я подозреваю, что быстрее чем за квадрат решить задачу не получится. Вот мои доводы:",
      "metadata": {}
    },
    {
      "cell_type": "markdown",
      "source": "**1. Предельный случай**",
      "metadata": {}
    },
    {
      "cell_type": "markdown",
      "source": "Допустим, у нас есть предельный случай, когда каждая строка равна каждой колонке. Например, grid = [[1, 1], [1, 1]]. Тогда, кол-во пар = n^2. Наш алгоритм должен найти все пары, значит он так или иначе сделает перебор в количестве n^2.",
      "metadata": {}
    },
    {
      "cell_type": "markdown",
      "source": "**2. Колонки**",
      "metadata": {}
    },
    {
      "cell_type": "markdown",
      "source": "Также я подозреваю, что сформировать колонки быстрее чем за квадрат не получится. Ведь матрица задана строками, а чтобы получить колонку, нужно из каждой строки (т.е. n раз) взять i-ый элемент (где 0 <= i < n). Таким образом получаем n^2, который перекроет любую оставшуюся часть алгоритма, даже если она будет быстрее.",
      "metadata": {}
    },
    {
      "cell_type": "markdown",
      "source": "Я попробовала придумать арифметическую штуку, чтобы вычислять нужный индекс в рамках одного цикла, но цикл-то все равно сделает n^2 итераций, так что она бесмысленна :)",
      "metadata": {}
    },
    {
      "cell_type": "code",
      "source": "# бессмысленная арифметическая штука\nfor i in range(n*n):\n    k = i - (i // n)*n\n    l = i // n",
      "metadata": {
        "trusted": true
      },
      "execution_count": 4,
      "outputs": []
    },
    {
      "cell_type": "markdown",
      "source": "## А может все-таки получится?",
      "metadata": {}
    },
    {
      "cell_type": "markdown",
      "source": "Ниже описаны те идеи, которые приходили мне на ум при попытке свести решение к O(n*log(n)), и опровержение этих идей 🥲",
      "metadata": {}
    },
    {
      "cell_type": "markdown",
      "source": "Вообще, все описанное ниже не имеет особого смысла, т.к. эти решения предполагают, что я буду сравнивать колонки со строками, а заполучить колонки у меня получается за n^2 только :( ",
      "metadata": {}
    },
    {
      "cell_type": "markdown",
      "source": "### Сортировки",
      "metadata": {}
    },
    {
      "cell_type": "markdown",
      "source": "**со сложностью O(nlog(n))**",
      "metadata": {}
    },
    {
      "cell_type": "markdown",
      "source": "Когда я вижу nlog(n), то сразу думаю:\n- о сортировках, которые отработают за O(nlog(n)) \n- и о том, как после сортировки буду искать n колонок бинарным поиском (log(n)), т.е. снова O(nlog(n))",
      "metadata": {}
    },
    {
      "cell_type": "markdown",
      "source": "Но! Сортировка списков в лексикографическом порядке даст дополнительную n, которая вылазит при сравнении списков, поэтому сортировки со сложностью O(nlog(n)) дадут в итоге сложность O((n^2)log(n)).",
      "metadata": {}
    },
    {
      "cell_type": "markdown",
      "source": "**radix sort**",
      "metadata": {}
    },
    {
      "cell_type": "markdown",
      "source": "Я вспомнила про radix sort, которая вроде как может отработать линейно. Попробовала адаптировать ее к кейсу с сортировкой списков:\n- n - длина входного массива, т.е. кол-во строк в grid;\n- d - длина строки в grid/кол-во колонок в grid, в нашем случае d=n;\n- b - кол-во чисел, которые могут встретиться в grid. Теоретически их значения варьируются от 0 до 10^5, но на практике мы можем рассматривать только уникальные числа в grid, которых в худшем случае будет n^2 штук.",
      "metadata": {}
    },
    {
      "cell_type": "markdown",
      "source": "Посчитаем сложность: O(d(n+b)) = O(n(n+n^2)) = O(n^2 + n^3) = O(n^3) 🥲🥲🥲",
      "metadata": {}
    },
    {
      "cell_type": "markdown",
      "source": "Кстати, если вспомогательный массив заменить хэш-таблицей, то кажется можно получить такую сложность: O(dn) = O(n^2). Одним плачущим эмоджи меньше 🥲🥲",
      "metadata": {}
    },
    {
      "cell_type": "markdown",
      "source": "### Деревья",
      "metadata": {}
    },
    {
      "cell_type": "markdown",
      "source": "Близко к сортировкам лежит идея дерева поиска, типа бинарного или b tree и т.д. В таких деревьях я буду искать все колонки за O(nlog(n)), но опять-таки все сводиться к O((n^2)log(n)) из-за сравнения списков.",
      "metadata": {}
    },
    {
      "cell_type": "markdown",
      "source": "### Сравнение по хэшу",
      "metadata": {}
    },
    {
      "cell_type": "markdown",
      "source": "Сортировки и деревья упираются в сравнение списков за O(n). Тогда можно было бы сравнивать их хэши за O(1). Но высчитывание хэша от списка - O(n). И так нужно сделать для всех списокв n. Таким образом мы снова получим O(n^2) на этапе подготовки хэшей для сравнения списков :(",
      "metadata": {}
    },
    {
      "cell_type": "markdown",
      "source": "## Вывод",
      "metadata": {}
    },
    {
      "cell_type": "markdown",
      "source": "Если получится, то не у меня :D",
      "metadata": {}
    }
  ]
}