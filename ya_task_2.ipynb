{
  "metadata": {
    "language_info": {
      "codemirror_mode": {
        "name": "python",
        "version": 3
      },
      "file_extension": ".py",
      "mimetype": "text/x-python",
      "name": "python",
      "nbconvert_exporter": "python",
      "pygments_lexer": "ipython3",
      "version": "3.8"
    },
    "kernelspec": {
      "name": "python",
      "display_name": "Python (Pyodide)",
      "language": "python"
    }
  },
  "nbformat_minor": 4,
  "nbformat": 4,
  "cells": [
    {
      "cell_type": "markdown",
      "source": "# Тестовые данные",
      "metadata": {}
    },
    {
      "cell_type": "code",
      "source": "# (input, output)\ntest_1 = ([[3,2,1],[1,7,6],[2,7,7]], 1)\ntest_2 = ([[3,1,2,2],[1,4,4,5],[2,4,2,2],[2,4,2,2]], 3)\ntest_3 = ([[3,2,1,1],[1,7,6,6],[2,7,7,7],[2,7,7,7]], 2)\ntest_4 = ([[1, 1], [1, 1]], 4)",
      "metadata": {
        "trusted": true
      },
      "execution_count": 2,
      "outputs": []
    },
    {
      "cell_type": "markdown",
      "source": "# Кубический вариант",
      "metadata": {}
    },
    {
      "cell_type": "markdown",
      "source": "Cначала я решила додумать решение по подсказке, но куб остался :(",
      "metadata": {}
    },
    {
      "cell_type": "code",
      "source": "def count_equal_rowcol_pairs(grid):\n    '''Сложность: O(n^3)'''\n    \n    n = len(grid)\n    pairs_counter = 0\n    \n    # проходимся по строкам\n    for row in grid:\n        # для текущей строки проходимся по всем колонкам\n        for j in range(n):\n            for i in range(n):\n                # как только находим неравные элементы - бросаем сравниваемую колонку\n                if row[i] != grid[i][j]:\n                    break\n                # если проитерировались по всей колонке - значит найдена пара, т.к. все соответствующие элементы равны\n                if i == n-1:\n                    pairs_counter += 1\n    \n    return pairs_counter",
      "metadata": {
        "trusted": true
      },
      "execution_count": 3,
      "outputs": []
    },
    {
      "cell_type": "code",
      "source": "assert count_equal_rowcol_pairs(test_1[0]) == test_1[1]\nassert count_equal_rowcol_pairs(test_2[0]) == test_2[1]\nassert count_equal_rowcol_pairs(test_3[0]) == test_3[1]\nassert count_equal_rowcol_pairs(test_4[0]) == test_4[1]",
      "metadata": {
        "trusted": true
      },
      "execution_count": 9,
      "outputs": []
    },
    {
      "cell_type": "markdown",
      "source": "Потом у меня было два промежуточных решения, мне казалось, что я нашла O(n^2), но когда доходило дело до реализации - я снова упиралась в какой-нибудь подкапотный O(n) и куб возвращался.",
      "metadata": {}
    },
    {
      "cell_type": "markdown",
      "source": "Я долго думала, как мне избавиться от куба и прийти к квадрату. Либо мне нужно как-то сравнивать списки, не перебирая n элементов, либо оставить сравнение списков за O(n), но оно должно быть внутри одного цикла, а не вложенного. ",
      "metadata": {}
    },
    {
      "cell_type": "markdown",
      "source": "# Квадратичный вариант",
      "metadata": {}
    },
    {
      "cell_type": "markdown",
      "source": "Мой мозг зацепился за сравнение списков за O(n) и вспомнил префиксное дерево (trie), в котором поиск слова происходит за O(n). Я прикинула, а что если я добавлю строки в trie, а потом буду искать колонки в этом trie? И, кажется, получился заветный квдрат :)",
      "metadata": {}
    },
    {
      "cell_type": "markdown",
      "source": "P.S.: кстати, с trie я столкнулась впервые, работая над дипломом в бакалавриате - на этой структуре сделан mystem от Яндекса :)",
      "metadata": {}
    },
    {
      "cell_type": "code",
      "source": "def count_equal_rowcol_pairs(grid):\n    '''Сложность: O(n^2)'''\n    \n    n = len(grid)\n    \n    # добавление и поиск в trie: O(n)\n    # trie[0] - переходы к другим вершинам\n    # trie[1] - сколько раз дошли до этой вершины\n    #   для всего, что не лист - 1,\n    #   а для листа - этот счетчик плюсуется, т.к. нам нужно считать попадания в лист при построении дерева (кол-во одинаковых строк)\n    trie = [dict(), 1]\n\n    # строим trie из строк: O(n^2)\n    for row in grid:\n        current_node = trie\n        for i, item in enumerate(row):\n            try:\n                current_node = current_node[0][item]\n                # дошли до конца слова, которое уже было добавлено в дерево, поэтому плюсуем счетчик кол-ва таких слов\n                if i == n-1:\n                    current_node[1] += 1\n            except KeyError:\n                current_node[0][item] = [dict(), 1]\n                current_node = current_node[0][item]\n\n    # генерим колонки: O(n^2)\n    columns = []\n    for i in range(n):\n        column = []\n        for j in range(n):\n            column.append(grid[j][i])\n        columns.append(column)\n    \n    # обходм колонки и ищем их в trie из строк: O(n^2)\n    pairs_counter = 0\n    for column in columns:\n        current_node = trie\n        for i, item in enumerate(column):\n            try:\n                current_node = current_node[0][item]\n                if i == n-1:\n                    pairs_counter += current_node[1]\n            except KeyError:\n                break\n\n    return pairs_counter",
      "metadata": {
        "trusted": true
      },
      "execution_count": 12,
      "outputs": []
    },
    {
      "cell_type": "code",
      "source": "assert count_equal_rowcol_pairs(test_1[0]) == test_1[1]\nassert count_equal_rowcol_pairs(test_2[0]) == test_2[1]\nassert count_equal_rowcol_pairs(test_3[0]) == test_3[1]\nassert count_equal_rowcol_pairs(test_4[0]) == test_4[1]",
      "metadata": {
        "trusted": true
      },
      "execution_count": 13,
      "outputs": []
    },
    {
      "cell_type": "code",
      "source": "",
      "metadata": {},
      "execution_count": null,
      "outputs": []
    }
  ]
}